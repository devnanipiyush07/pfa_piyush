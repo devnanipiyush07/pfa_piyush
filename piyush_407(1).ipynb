{
 "cells": [
  {
   "cell_type": "code",
   "execution_count": 6,
   "id": "3e7c43e5",
   "metadata": {},
   "outputs": [
    {
     "name": "stdout",
     "output_type": "stream",
     "text": [
      "No is smaller than 10\n",
      "This statement will always be executed\n"
     ]
    }
   ],
   "source": [
    "#Assign a value 5 to n\n",
    "num = 5\n",
    "if num < 10:\n",
    "    print('No is smaller than 10')\n",
    "print('This statement will always be executed')"
   ]
  },
  {
   "cell_type": "code",
   "execution_count": 13,
   "id": "d7d40c25",
   "metadata": {},
   "outputs": [
    {
     "name": "stdout",
     "output_type": "stream",
     "text": [
      "passing score 50\n",
      "my_score 45\n",
      "you need to work hard\n"
     ]
    }
   ],
   "source": [
    "x = float(input('passing score '))\n",
    "y = float(input('my_score '))\n",
    "if y >= x:\n",
    "    print('Congratulations, you have passed your exam')\n",
    "else:\n",
    "    print('you need to work hard')\n",
    "          "
   ]
  },
  {
   "cell_type": "code",
   "execution_count": 14,
   "id": "acd67ad6",
   "metadata": {},
   "outputs": [
    {
     "name": "stdout",
     "output_type": "stream",
     "text": [
      "Number is positive\n",
      "Number is less than 10\n"
     ]
    }
   ],
   "source": [
    "num = 5\n",
    "if num > 0:\n",
    "    print('Number is positive')\n",
    "    if num < 10:\n",
    "        print('Number is less than 10')"
   ]
  },
  {
   "cell_type": "code",
   "execution_count": 18,
   "id": "442f6639",
   "metadata": {},
   "outputs": [
    {
     "name": "stdout",
     "output_type": "stream",
     "text": [
      "Enter any no. 0\n"
     ]
    }
   ],
   "source": [
    "n=float(input(\"Enter any no. \"))\n",
    "if n!=0:\n",
    "    if n>0:\n",
    "        print(\"The no is greater than zero\")\n",
    "    "
   ]
  },
  {
   "cell_type": "code",
   "execution_count": 23,
   "id": "d11e968c",
   "metadata": {},
   "outputs": [
    {
     "name": "stdout",
     "output_type": "stream",
     "text": [
      "Enter no1.10\n",
      "Enter no2.20\n",
      "Enter no3.30\n",
      "All the conditions are true\n"
     ]
    }
   ],
   "source": [
    "#Multiple conditions using “And”\n",
    "num1 = float(input('Enter no1.'))\n",
    "num2 = float(input('Enter no2.'))\n",
    "num3 = float(input('Enter no3.'))\n",
    "if num1 == 10 and num2 ==20 and num3 == 30:\n",
    "    print('All the conditions are true')"
   ]
  },
  {
   "cell_type": "code",
   "execution_count": 31,
   "id": "f6ee739c",
   "metadata": {},
   "outputs": [
    {
     "name": "stdout",
     "output_type": "stream",
     "text": [
      "What is the fruit name banana\n",
      "It's not a fruit\n"
     ]
    }
   ],
   "source": [
    "fruitName = input('What is the fruit name ')\n",
    "if fruitName=='mango' or fruitName=='apple' or fruitName=='grapes':\n",
    "    print('It is a fruit')\n",
    "else:\n",
    "    print(\"It's not a fruit\")"
   ]
  },
  {
   "cell_type": "code",
   "execution_count": 2,
   "id": "38ed060e",
   "metadata": {},
   "outputs": [
    {
     "name": "stdout",
     "output_type": "stream",
     "text": [
      "1 9.0\n",
      "2 25.0\n",
      "3 20.666666666666668\n",
      "4 16.25\n",
      "5 27.8\n",
      "6 25.666666666666668\n",
      "The final average is 25.666666666666668\n"
     ]
    }
   ],
   "source": [
    "#Exercise 4\n",
    "sum=0\n",
    "c=0\n",
    "for nos in [9,41,12,3,74,15]:\n",
    "    sum= sum+nos\n",
    "    c=c+1\n",
    "    avg=sum/c\n",
    "    print(c,avg)\n",
    "print(\"The final average is\",avg)"
   ]
  },
  {
   "cell_type": "code",
   "execution_count": 3,
   "id": "e4eb6e2e",
   "metadata": {},
   "outputs": [
    {
     "name": "stdout",
     "output_type": "stream",
     "text": [
      "Apple\n",
      "Banana\n",
      "Grapes\n",
      "Pineapple\n",
      "Guava\n"
     ]
    }
   ],
   "source": [
    "#Name of each fruit in a loop \n",
    "fruit=[\"Apple\",\"Banana\",\"Grapes\",\"Pineapple\",\"Guava\"]\n",
    "for n in fruit:\n",
    "    print(n)"
   ]
  },
  {
   "cell_type": "code",
   "execution_count": null,
   "id": "ac8cfb18",
   "metadata": {},
   "outputs": [],
   "source": []
  }
 ],
 "metadata": {
  "kernelspec": {
   "display_name": "Python 3",
   "language": "python",
   "name": "python3"
  },
  "language_info": {
   "codemirror_mode": {
    "name": "ipython",
    "version": 3
   },
   "file_extension": ".py",
   "mimetype": "text/x-python",
   "name": "python",
   "nbconvert_exporter": "python",
   "pygments_lexer": "ipython3",
   "version": "3.8.8"
  }
 },
 "nbformat": 4,
 "nbformat_minor": 5
}
