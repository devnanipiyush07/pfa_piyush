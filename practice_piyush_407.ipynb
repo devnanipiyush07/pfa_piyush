{
 "cells": [
  {
   "cell_type": "code",
   "execution_count": 1,
   "id": "65577a6a",
   "metadata": {},
   "outputs": [
    {
     "name": "stdout",
     "output_type": "stream",
     "text": [
      "17\n"
     ]
    }
   ],
   "source": [
    "#Addition\n",
    "x = 7\n",
    "y = 10\n",
    "print(x+y)"
   ]
  },
  {
   "cell_type": "code",
   "execution_count": 2,
   "id": "b0b70e27",
   "metadata": {},
   "outputs": [
    {
     "name": "stdout",
     "output_type": "stream",
     "text": [
      "0\n"
     ]
    }
   ],
   "source": [
    "#subtraction\n",
    "print(5-5)"
   ]
  },
  {
   "cell_type": "code",
   "execution_count": 3,
   "id": "02f5276f",
   "metadata": {},
   "outputs": [
    {
     "name": "stdout",
     "output_type": "stream",
     "text": [
      "15\n"
     ]
    }
   ],
   "source": [
    "#Multiplication\n",
    "print(5*3)"
   ]
  },
  {
   "cell_type": "code",
   "execution_count": 4,
   "id": "7c213d54",
   "metadata": {},
   "outputs": [
    {
     "name": "stdout",
     "output_type": "stream",
     "text": [
      "5.0\n"
     ]
    }
   ],
   "source": [
    "#Division\n",
    "print(10/2)"
   ]
  },
  {
   "cell_type": "code",
   "execution_count": 5,
   "id": "e98ce887",
   "metadata": {},
   "outputs": [
    {
     "name": "stdout",
     "output_type": "stream",
     "text": [
      "4\n"
     ]
    }
   ],
   "source": [
    "#Remainder\n",
    "print(18%7)"
   ]
  },
  {
   "cell_type": "code",
   "execution_count": 6,
   "id": "e240b57b",
   "metadata": {},
   "outputs": [
    {
     "name": "stdout",
     "output_type": "stream",
     "text": [
      "16\n"
     ]
    }
   ],
   "source": [
    "#Square\n",
    "print(4**2)"
   ]
  },
  {
   "cell_type": "code",
   "execution_count": 7,
   "id": "0f3ea379",
   "metadata": {},
   "outputs": [
    {
     "name": "stdout",
     "output_type": "stream",
     "text": [
      "Interest Earned= 1750\n",
      "Total Amount= 6750\n"
     ]
    }
   ],
   "source": [
    "#Simple Interest\n",
    "p=5000\n",
    "r=0.07\n",
    "t=5\n",
    "SI=int(p*r*t)\n",
    "TI=int(p+SI)\n",
    "print('Interest Earned=', SI)\n",
    "print('Total Amount=', TI)"
   ]
  },
  {
   "cell_type": "code",
   "execution_count": 8,
   "id": "b70a170f",
   "metadata": {},
   "outputs": [
    {
     "name": "stdout",
     "output_type": "stream",
     "text": [
      "Time taken in years= 7\n"
     ]
    }
   ],
   "source": [
    "p=8000\n",
    "r=0.087\n",
    "SI=4872\n",
    "t=int(SI/(p*r))\n",
    "print(\"Time taken in years=\",t)\n"
   ]
  },
  {
   "cell_type": "code",
   "execution_count": 12,
   "id": "bec26783",
   "metadata": {},
   "outputs": [
    {
     "name": "stdout",
     "output_type": "stream",
     "text": [
      "The Rate of interest will be= 0.064\n"
     ]
    }
   ],
   "source": [
    "p=3000\n",
    "t=4\n",
    "SI=768\n",
    "r=float(SI/(p*t))\n",
    "print('The Rate of interest will be=',r)\n"
   ]
  },
  {
   "cell_type": "code",
   "execution_count": 22,
   "id": "8d0d2ccf",
   "metadata": {},
   "outputs": [
    {
     "name": "stdout",
     "output_type": "stream",
     "text": [
      "Amount after 7 years= 194.87171000000012\n"
     ]
    }
   ],
   "source": [
    "#Time after 7 years\n",
    "print('Amount after 7 years=', (100*(1.1)**7))"
   ]
  },
  {
   "cell_type": "code",
   "execution_count": 24,
   "id": "254f2c6f",
   "metadata": {},
   "outputs": [
    {
     "name": "stdout",
     "output_type": "stream",
     "text": [
      "savings\n",
      "Amount after 7 years= 194.87171000000012\n"
     ]
    }
   ],
   "source": [
    "savings=100\n",
    "growth_multiplier=0.1\n",
    "t=7\n",
    "result=float(savings*(1+growth_multiplier)**t)\n",
    "print('savings')\n",
    "print('Amount after 7 years=',result)"
   ]
  },
  {
   "cell_type": "code",
   "execution_count": 25,
   "id": "7f101b86",
   "metadata": {},
   "outputs": [
    {
     "name": "stdout",
     "output_type": "stream",
     "text": [
      "<class 'bool'>\n",
      "<class 'str'>\n",
      "<class 'float'>\n",
      "<class 'str'>\n",
      "<class 'bool'>\n"
     ]
    }
   ],
   "source": [
    "#Create a variable desc\n",
    "desc='Compound Interest'\n",
    "#Create a new variable profitable \n",
    "profitable=bool(True)\n",
    "A=10.7\n",
    "B='This is python course'\n",
    "C=False\n",
    "#Checking the type of variable\n",
    "print(type(profitable))\n",
    "print(type(desc))\n",
    "print(type(A))\n",
    "print(type(B))\n",
    "print(type(C))\n"
   ]
  },
  {
   "cell_type": "code",
   "execution_count": 33,
   "id": "d84aa5c1",
   "metadata": {},
   "outputs": [
    {
     "name": "stdout",
     "output_type": "stream",
     "text": [
      "110.00000000000001 <class 'float'>\n",
      "Compound InterestCompound Interest\n"
     ]
    }
   ],
   "source": [
    "savings=100\n",
    "growth_multiplier=1.1\n",
    "desc='Compound Interest'\n",
    "year1=(savings*growth_multiplier)\n",
    "#Type of year1\n",
    "print(year1, type(year1))\n",
    "#Assign sum of desc and desc to doubledesc\n",
    "doubledesc=(desc+desc)\n",
    "print(doubledesc)\n"
   ]
  },
  {
   "cell_type": "code",
   "execution_count": 36,
   "id": "a136291b",
   "metadata": {},
   "outputs": [
    {
     "name": "stdout",
     "output_type": "stream",
     "text": [
      "I started with $100 and now have $194.87171000000012. Awesome!\n"
     ]
    }
   ],
   "source": [
    "#For changing the type of variable\n",
    "savings=str(100)\n",
    "result=str(100*1.1**7)\n",
    "print(\"I started with $\" + savings + \" and now have $\" + result + \". Awesome!\")"
   ]
  },
  {
   "cell_type": "code",
   "execution_count": 38,
   "id": "918f0d57",
   "metadata": {},
   "outputs": [
    {
     "name": "stdout",
     "output_type": "stream",
     "text": [
      "6.2831852\n"
     ]
    }
   ],
   "source": [
    "pi_string=\"3.1415926\"\n",
    "#Convert pi_string into float\n",
    "pi_float=float(pi_string)\n",
    "#Multiply by 2 to save the value in a new variable double_pi\n",
    "double_pi=2*pi_float\n",
    "print(double_pi)"
   ]
  },
  {
   "cell_type": "code",
   "execution_count": 51,
   "id": "1e76ddd9",
   "metadata": {},
   "outputs": [
    {
     "name": "stdout",
     "output_type": "stream",
     "text": [
      "I can add integers, like 5 to strings.\n",
      "I said HeyHeyHey!\n"
     ]
    },
    {
     "ename": "TypeError",
     "evalue": "can only concatenate str (not \"int\") to str",
     "output_type": "error",
     "traceback": [
      "\u001b[1;31m---------------------------------------------------------------------------\u001b[0m",
      "\u001b[1;31mTypeError\u001b[0m                                 Traceback (most recent call last)",
      "\u001b[1;32m<ipython-input-51-5a737ee1e7aa>\u001b[0m in \u001b[0;36m<module>\u001b[1;34m\u001b[0m\n\u001b[0;32m      1\u001b[0m \u001b[0mprint\u001b[0m\u001b[1;33m(\u001b[0m\u001b[1;34m'I can add integers, like '\u001b[0m \u001b[1;33m+\u001b[0m \u001b[0mstr\u001b[0m\u001b[1;33m(\u001b[0m\u001b[1;36m5\u001b[0m\u001b[1;33m)\u001b[0m \u001b[1;33m+\u001b[0m \u001b[1;34m' to strings.'\u001b[0m\u001b[1;33m)\u001b[0m\u001b[1;33m\u001b[0m\u001b[1;33m\u001b[0m\u001b[0m\n\u001b[0;32m      2\u001b[0m \u001b[0mprint\u001b[0m\u001b[1;33m(\u001b[0m\u001b[1;34m'I said '\u001b[0m\u001b[1;33m+\u001b[0m \u001b[1;33m(\u001b[0m\u001b[1;34m'Hey'\u001b[0m\u001b[1;33m*\u001b[0m\u001b[1;36m2\u001b[0m\u001b[1;33m)\u001b[0m \u001b[1;33m+\u001b[0m \u001b[1;34m'Hey!'\u001b[0m\u001b[1;33m)\u001b[0m\u001b[1;33m\u001b[0m\u001b[1;33m\u001b[0m\u001b[0m\n\u001b[1;32m----> 3\u001b[1;33m \u001b[0mprint\u001b[0m\u001b[1;33m(\u001b[0m\u001b[1;34m'The correct answer to this multiple choice exercise is answe number '\u001b[0m\u001b[1;33m+\u001b[0m \u001b[1;36m2\u001b[0m\u001b[1;33m)\u001b[0m\u001b[1;33m\u001b[0m\u001b[1;33m\u001b[0m\u001b[0m\n\u001b[0m\u001b[0;32m      4\u001b[0m \u001b[1;32mTrue\u001b[0m\u001b[1;33m+\u001b[0m\u001b[1;32mFalse\u001b[0m\u001b[1;33m\u001b[0m\u001b[1;33m\u001b[0m\u001b[0m\n\u001b[0;32m      5\u001b[0m \u001b[1;31m#Statement 3 will show a error\u001b[0m\u001b[1;33m\u001b[0m\u001b[1;33m\u001b[0m\u001b[1;33m\u001b[0m\u001b[0m\n",
      "\u001b[1;31mTypeError\u001b[0m: can only concatenate str (not \"int\") to str"
     ]
    }
   ],
   "source": [
    "print('I can add integers, like ' + str(5) + ' to strings.')\n",
    "print('I said '+ ('Hey'*2) + 'Hey!')\n",
    "print('The correct answer to this multiple choice exercise is answe number '+ 2)\n",
    "True+False\n",
    "#Statement 3 will show a error"
   ]
  },
  {
   "cell_type": "code",
   "execution_count": 50,
   "id": "065ffe3d",
   "metadata": {},
   "outputs": [
    {
     "data": {
      "text/plain": [
       "1"
      ]
     },
     "execution_count": 50,
     "metadata": {},
     "output_type": "execute_result"
    }
   ],
   "source": [
    "True+False"
   ]
  },
  {
   "cell_type": "code",
   "execution_count": 53,
   "id": "5377661c",
   "metadata": {},
   "outputs": [
    {
     "name": "stdout",
     "output_type": "stream",
     "text": [
      "Enter any number:5\n",
      "The no entered by you  5.0  is odd\n"
     ]
    }
   ],
   "source": [
    "#To check if the number is even or not\n",
    "x=float(input('Enter any number:'))\n",
    "if x%2==0:\n",
    "    print('The no entered by you ', x,' is even' )\n",
    "else:\n",
    "    print('The no entered by you ', x, ' is odd')"
   ]
  },
  {
   "cell_type": "code",
   "execution_count": 1,
   "id": "75153b06",
   "metadata": {},
   "outputs": [
    {
     "name": "stdout",
     "output_type": "stream",
     "text": [
      "Enter temperature in Celsius: 50\n",
      "122.0\n"
     ]
    }
   ],
   "source": [
    "#to convert degree centigrade into Fahrenheit\n",
    "celsius = float(input('Enter temperature in Celsius: '))\n",
    "#Conversion of celsius to fahrenheit\n",
    "fahrenheit = (celsius*1.8)+32\n",
    "print(fahrenheit)"
   ]
  },
  {
   "cell_type": "code",
   "execution_count": 7,
   "id": "1c7d0661",
   "metadata": {},
   "outputs": [
    {
     "name": "stdout",
     "output_type": "stream",
     "text": [
      "Area of triangle is  5.332682251925386\n"
     ]
    }
   ],
   "source": [
    "#Finding area of a triangle whose sides are given\n",
    "a=4\n",
    "b=3\n",
    "c=6\n",
    "s=(a+b+c)/2\n",
    "import math\n",
    "Area=math.sqrt(s*(s-a)*(s-b)*(s-c))\n",
    "print(\"Area of triangle is \", Area)"
   ]
  },
  {
   "cell_type": "raw",
   "id": "9bed87d5",
   "metadata": {},
   "source": []
  },
  {
   "cell_type": "code",
   "execution_count": 10,
   "id": "d609542e",
   "metadata": {},
   "outputs": [
    {
     "name": "stdout",
     "output_type": "stream",
     "text": [
      "Enter radius of circle 5\n",
      "Area of circle is  78.53981633974483\n",
      "Circumference of circle is  31.41592653589793\n"
     ]
    }
   ],
   "source": [
    "#to find the circumference and area of a circle with a given radius.\n",
    "r=float(input('Enter radius of circle '))\n",
    "c=2*math.pi*r\n",
    "a=math.pi*r**2\n",
    "print('Area of circle is ', a)\n",
    "print('Circumference of circle is ', c)"
   ]
  },
  {
   "cell_type": "code",
   "execution_count": 14,
   "id": "d3b0a0d8",
   "metadata": {
    "scrolled": true
   },
   "outputs": [
    {
     "name": "stdout",
     "output_type": "stream",
     "text": [
      "Enter any number:5\n",
      "It is a multiple of  5\n"
     ]
    }
   ],
   "source": [
    "a=float(input('Enter any number:'))\n",
    "if a%5==0:\n",
    "    print('It is a multiple of ', 5)\n",
    "else:\n",
    "    print('It is not a multiple of ', 5)"
   ]
  },
  {
   "cell_type": "code",
   "execution_count": null,
   "id": "6faf5480",
   "metadata": {},
   "outputs": [],
   "source": []
  }
 ],
 "metadata": {
  "kernelspec": {
   "display_name": "Python 3",
   "language": "python",
   "name": "python3"
  },
  "language_info": {
   "codemirror_mode": {
    "name": "ipython",
    "version": 3
   },
   "file_extension": ".py",
   "mimetype": "text/x-python",
   "name": "python",
   "nbconvert_exporter": "python",
   "pygments_lexer": "ipython3",
   "version": "3.8.8"
  }
 },
 "nbformat": 4,
 "nbformat_minor": 5
}
