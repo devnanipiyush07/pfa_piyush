{
 "cells": [
  {
   "cell_type": "code",
   "execution_count": 3,
   "id": "9ff65f4d",
   "metadata": {},
   "outputs": [
    {
     "name": "stdout",
     "output_type": "stream",
     "text": [
      "[12, 35, 9, 56, 24]\n",
      "[24, 35, 9, 56, 12]\n"
     ]
    }
   ],
   "source": [
    "a = list()\n",
    "a.append(12)\n",
    "a.append(35)\n",
    "a.append(9)\n",
    "a.append(56)\n",
    "a.append(24)\n",
    "print(a)\n",
    "a[0]=24\n",
    "a[4]=12\n",
    "print(a)"
   ]
  },
  {
   "cell_type": "code",
   "execution_count": 5,
   "id": "a2212380",
   "metadata": {},
   "outputs": [
    {
     "name": "stdout",
     "output_type": "stream",
     "text": [
      "[1, 2, 3]\n",
      "[3, 2, 1]\n"
     ]
    }
   ],
   "source": [
    "a = list()\n",
    "a.append(1)\n",
    "a.append(2)\n",
    "a.append(3)\n",
    "print(a)\n",
    "a[0]=3\n",
    "a[1]=2\n",
    "a[2]=1\n",
    "print(a)"
   ]
  },
  {
   "cell_type": "code",
   "execution_count": 7,
   "id": "05718959",
   "metadata": {},
   "outputs": [
    {
     "name": "stdout",
     "output_type": "stream",
     "text": [
      "5\n"
     ]
    }
   ],
   "source": [
    "list=[1,4,5,7,8]\n",
    "print(len(list))"
   ]
  },
  {
   "cell_type": "code",
   "execution_count": 10,
   "id": "f4c51a23",
   "metadata": {},
   "outputs": [
    {
     "name": "stdout",
     "output_type": "stream",
     "text": [
      "The length of the list is  4\n"
     ]
    }
   ],
   "source": [
    "a=[]\n",
    "a.append('Geeks')\n",
    "a.append('Are')\n",
    "a.append('For')\n",
    "a.append('Geeks')\n",
    "b = len(a)\n",
    "print(\"The length of the list is \",b)"
   ]
  },
  {
   "cell_type": "code",
   "execution_count": 16,
   "id": "ebf61efd",
   "metadata": {},
   "outputs": [
    {
     "name": "stdout",
     "output_type": "stream",
     "text": [
      "Enter 1st no 10\n",
      "Enter 2nd no 2\n",
      "10.0\n",
      "2.0\n"
     ]
    }
   ],
   "source": [
    "#Print Max and Min\n",
    "a = float(input('Enter 1st no '))\n",
    "b = float(input('Enter 2nd no '))\n",
    "print(max(a,b))\n",
    "print(min(a,b))"
   ]
  },
  {
   "cell_type": "code",
   "execution_count": null,
   "id": "2153ca6b",
   "metadata": {},
   "outputs": [],
   "source": []
  }
 ],
 "metadata": {
  "kernelspec": {
   "display_name": "Python 3",
   "language": "python",
   "name": "python3"
  },
  "language_info": {
   "codemirror_mode": {
    "name": "ipython",
    "version": 3
   },
   "file_extension": ".py",
   "mimetype": "text/x-python",
   "name": "python",
   "nbconvert_exporter": "python",
   "pygments_lexer": "ipython3",
   "version": "3.8.8"
  }
 },
 "nbformat": 4,
 "nbformat_minor": 5
}
